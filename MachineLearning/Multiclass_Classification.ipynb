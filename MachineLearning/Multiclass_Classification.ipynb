{
  "nbformat": 4,
  "nbformat_minor": 0,
  "metadata": {
    "colab": {
      "name": "Multiclass_Classification.ipynb",
      "provenance": [],
      "collapsed_sections": []
    },
    "kernelspec": {
      "name": "python3",
      "display_name": "Python 3"
    },
    "language_info": {
      "name": "python"
    },
    "accelerator": "GPU"
  },
  "cells": [
    {
      "cell_type": "markdown",
      "metadata": {
        "id": "q08KI--7KcV0"
      },
      "source": [
        "# **Logistic  Regression on Multi Class Classification**\n",
        "Here, I have fetched dataset from UCI-Machine Learning Repository.\n",
        "\n",
        "The dataset description is present here: https://raw.githubusercontent.com/Rumsha001/ML2/main/dataset/hydraulic_description \n",
        "\n",
        "The Hydraulic dataset has total 5 features including Pump Leakage which has 3 attributes:\n",
        "\n",
        "*   0: no leakage\n",
        "*   1: weak leakage\n",
        "*   2: severe leakage\n",
        "\n",
        "Pump_leakage is going to be our target value. 0,1 and 2 will be our classes.\n",
        "\n",
        "By applying multi class classification we will identify that how well the hydraulic pump leakage is classified with the given values.\n",
        "\n",
        "The ROC curve for class 0 will be drawn against class 1 and 2.\n",
        "\n",
        "Similarly, the ROC curve or class 1 will be drawn against class 0 and 2.\n",
        "\n",
        "Lastly, the ROC curve for class 2 will be drawn against class 0 and 1.\n",
        "\n"
      ]
    },
    {
      "cell_type": "code",
      "metadata": {
        "id": "pzb_URXBA1gs",
        "colab": {
          "base_uri": "https://localhost:8080/",
          "height": 223
        },
        "outputId": "2b27efe0-952c-459e-9a3e-3d222e316cd0"
      },
      "source": [
        "#import libraries\n",
        "from sklearn import metrics\n",
        "import numpy as np \n",
        "import pandas as pd \n",
        "from sklearn.model_selection import train_test_split\n",
        "#multiclass model\n",
        "from sklearn.multiclass import OneVsRestClassifier\n",
        "# train models\n",
        "from sklearn.linear_model import LogisticRegression\n",
        "from sklearn.neighbors import KNeighborsClassifier\n",
        "from sklearn.ensemble import RandomForestClassifier\n",
        "import matplotlib.pyplot as plt\n",
        "\n",
        "git_url_dataset= \"https://raw.githubusercontent.com/Rumsha001/ML2/main/dataset/hydraulic.csv\"\n",
        "\n",
        "hydraulic= pd.read_csv(git_url_dataset)\n",
        "print(\"Total no. of rows: \", hydraulic.shape[0], \" | Total no. of columns: \", hydraulic.shape[1],)\n",
        "hydraulic.head()\n",
        "\n"
      ],
      "execution_count": null,
      "outputs": [
        {
          "output_type": "stream",
          "name": "stdout",
          "text": [
            "Total no. of rows:  2205  | Total no. of columns:  5\n"
          ]
        },
        {
          "output_type": "execute_result",
          "data": {
            "text/html": [
              "<div>\n",
              "<style scoped>\n",
              "    .dataframe tbody tr th:only-of-type {\n",
              "        vertical-align: middle;\n",
              "    }\n",
              "\n",
              "    .dataframe tbody tr th {\n",
              "        vertical-align: top;\n",
              "    }\n",
              "\n",
              "    .dataframe thead th {\n",
              "        text-align: right;\n",
              "    }\n",
              "</style>\n",
              "<table border=\"1\" class=\"dataframe\">\n",
              "  <thead>\n",
              "    <tr style=\"text-align: right;\">\n",
              "      <th></th>\n",
              "      <th>Cooler</th>\n",
              "      <th>Valve</th>\n",
              "      <th>Pump_Leakage</th>\n",
              "      <th>Accumulator</th>\n",
              "      <th>Stable_flag</th>\n",
              "    </tr>\n",
              "  </thead>\n",
              "  <tbody>\n",
              "    <tr>\n",
              "      <th>0</th>\n",
              "      <td>3</td>\n",
              "      <td>100</td>\n",
              "      <td>0</td>\n",
              "      <td>130</td>\n",
              "      <td>1</td>\n",
              "    </tr>\n",
              "    <tr>\n",
              "      <th>1</th>\n",
              "      <td>3</td>\n",
              "      <td>100</td>\n",
              "      <td>0</td>\n",
              "      <td>130</td>\n",
              "      <td>1</td>\n",
              "    </tr>\n",
              "    <tr>\n",
              "      <th>2</th>\n",
              "      <td>3</td>\n",
              "      <td>100</td>\n",
              "      <td>0</td>\n",
              "      <td>130</td>\n",
              "      <td>1</td>\n",
              "    </tr>\n",
              "    <tr>\n",
              "      <th>3</th>\n",
              "      <td>3</td>\n",
              "      <td>100</td>\n",
              "      <td>0</td>\n",
              "      <td>130</td>\n",
              "      <td>1</td>\n",
              "    </tr>\n",
              "    <tr>\n",
              "      <th>4</th>\n",
              "      <td>3</td>\n",
              "      <td>100</td>\n",
              "      <td>0</td>\n",
              "      <td>130</td>\n",
              "      <td>1</td>\n",
              "    </tr>\n",
              "  </tbody>\n",
              "</table>\n",
              "</div>"
            ],
            "text/plain": [
              "   Cooler  Valve  Pump_Leakage  Accumulator  Stable_flag\n",
              "0       3    100             0          130            1\n",
              "1       3    100             0          130            1\n",
              "2       3    100             0          130            1\n",
              "3       3    100             0          130            1\n",
              "4       3    100             0          130            1"
            ]
          },
          "metadata": {},
          "execution_count": 41
        }
      ]
    },
    {
      "cell_type": "code",
      "metadata": {
        "colab": {
          "base_uri": "https://localhost:8080/"
        },
        "id": "ZJw806wZodZg",
        "outputId": "fa79b215-401d-47ec-fee2-9e77652e5112"
      },
      "source": [
        "# Internal pump leakage:\n",
        "# \t0: no leakage\n",
        "# \t1: weak leakage\n",
        "# \t2: severe leakage\n",
        "\n",
        "print(\"Pump leakage distribution\")\n",
        "print(hydraulic.groupby('Pump_Leakage').size())\n",
        "\n",
        "X=hydraulic.drop([\"Pump_Leakage\"], axis=1)\n",
        "y=hydraulic[\"Pump_Leakage\"]\n",
        "train_X,test_X,train_y,test_y = train_test_split (X,y,test_size=0.2,random_state=3)\n",
        "\n",
        "train_samples, n_features = train_X.shape\n",
        "n_classes = np.unique(y).shape[0]\n",
        "\n",
        "print('Hydraulic Dataset, train_samples=%i, n_features=%i, n_classes=%i'\n",
        "      % (train_samples, n_features, n_classes))"
      ],
      "execution_count": null,
      "outputs": [
        {
          "output_type": "stream",
          "name": "stdout",
          "text": [
            "Pump leakage distribution\n",
            "Pump_Leakage\n",
            "0    1221\n",
            "1     492\n",
            "2     492\n",
            "dtype: int64\n",
            "Hydraulic Dataset, train_samples=1764, n_features=4, n_classes=3\n"
          ]
        }
      ]
    },
    {
      "cell_type": "code",
      "metadata": {
        "colab": {
          "base_uri": "https://localhost:8080/"
        },
        "id": "W9YcKGPb_22U",
        "outputId": "183e86ac-f105-4dff-c7e8-24cb566c017b"
      },
      "source": [
        "\n",
        "# fit model\n",
        "clf = OneVsRestClassifier(LogisticRegression())\n",
        "clf.fit(train_X, train_y)\n",
        "pred = clf.predict(test_X)\n",
        "pred_prob = clf.predict_proba(test_X)\n",
        "\n",
        "# roc curve for classes\n",
        "fpr = {}\n",
        "tpr = {}\n",
        "thresh ={}\n",
        "\n",
        "n_class = 3\n",
        "\n",
        "for i in range(n_class):    \n",
        "    fpr[i], tpr[i], thresh[i] = metrics.roc_curve(test_y, pred_prob[:,i], pos_label=i)\n",
        "    # print(fpr[i], tpr[i], thresh[i])\n",
        "\n",
        "\n",
        "#calculating accuracy\n",
        "accuracy = np.sum(pred == test_y) / test_y.shape[0]\n",
        "print(\"accuracy:\",accuracy)\n",
        "confusion = metrics.multilabel_confusion_matrix(test_y, pred)\n",
        "print(\"confusion matrix:\\n\",confusion)\n",
        "\n"
      ],
      "execution_count": null,
      "outputs": [
        {
          "output_type": "stream",
          "name": "stdout",
          "text": [
            "accuracy: 0.5328798185941043\n",
            "confusion matrix:\n",
            " [[[102  89]\n",
            "  [ 57 193]]\n",
            "\n",
            " [[259  91]\n",
            "  [ 58  33]]\n",
            "\n",
            " [[315  26]\n",
            "  [ 91   9]]]\n"
          ]
        }
      ]
    },
    {
      "cell_type": "markdown",
      "metadata": {
        "id": "aRCcngJidSnU"
      },
      "source": [
        "## **Plotting Multi Class ROC Curve**\n",
        "The area under the ROC curve (AUC) is a useful tool for evaluating the quality of class separation for  classifiers. "
      ]
    },
    {
      "cell_type": "code",
      "metadata": {
        "colab": {
          "base_uri": "https://localhost:8080/",
          "height": 295
        },
        "id": "vH8KejmNdTMi",
        "outputId": "b821778f-a022-48fc-f59f-214662dcfa98"
      },
      "source": [
        "#plotting Multiclass ROC Curve\n",
        "plt.plot(fpr[0], tpr[0], linestyle='--',color='orange', label='Class 0 vs Rest')\n",
        "plt.plot(fpr[1], tpr[1], linestyle='--',color='red', label='Class 1 vs Rest')\n",
        "plt.plot(fpr[2], tpr[2], linestyle='--',color='blue', label='Class 2 vs Rest')\n",
        "plt.title('Multiclass ROC curve')\n",
        "plt.xlabel('False Positive Rate')\n",
        "plt.ylabel('True Positive rate')\n",
        "plt.legend(loc='best')\n",
        "plt.savefig('Multiclass ROC',dpi=500);  \n"
      ],
      "execution_count": null,
      "outputs": [
        {
          "output_type": "display_data",
          "data": {
            "image/png": "[encoded data removed]",
            "text/plain": [
              "<Figure size 432x288 with 1 Axes>"
            ]
          },
          "metadata": {
            "needs_background": "light"
          }
        }
      ]
    },
    {
      "cell_type": "markdown",
      "metadata": {
        "id": "vefoCfeLer1K"
      },
      "source": [
        "## **Comparison of Multinomial Vs. OVR Logistic Regression)**\n",
        "\n",
        "\n",
        "Here we are doing a comparison of multinomial logistic L1 vs one-versus-rest L1 logistic regression to classify the Pump Leakage with respect to other features. \n",
        "Here, we found that Multinomial logistic regression yields more accurate results than one-versus-rest LR and also, Multinomial logistic is considered to be faster when you need to train on the larger scale dataset.\n",
        "\n",
        "Here, we visualize the \"performance\" of multi-class models according to their curves. "
      ]
    },
    {
      "cell_type": "code",
      "metadata": {
        "colab": {
          "base_uri": "https://localhost:8080/",
          "height": 527
        },
        "id": "42XPsCcK1E5w",
        "outputId": "34fa57d0-c962-44d6-8f09-a7660bf1bfac"
      },
      "source": [
        "#To skip warnings\n",
        "import warnings\n",
        "from sklearn.exceptions import ConvergenceWarning\n",
        "#Record run time\n",
        "import timeit\n",
        "\n",
        "\n",
        "warnings.filterwarnings(\"ignore\", category=ConvergenceWarning,module=\"sklearn\")\n",
        "t0 = timeit.default_timer()\n",
        "\n",
        "# We use lbfgs solver since our dataset is not too large\n",
        "# In case dataset is larger than \"saga\" should be use as a solver and set n_sample to \"10000\"\n",
        "solver = 'lbfgs'\n",
        "\n",
        "# Turn down for faster run time\n",
        "n_samples = 10000\n",
        "\n",
        "models = {'ovr': {'name': 'One versus Rest', 'iters': [1, 9, 19]},\n",
        "          'multinomial': {'name': 'Multinomial', 'iters': [1, 7, 21]}}\n",
        "\n",
        "for model in models:\n",
        "    # Add initial chance-level values for plotting purpose\n",
        "    accuracies = [1 / n_classes]\n",
        "    times = [0]\n",
        "\n",
        "    model_params = models[model]\n",
        "    print('Model=',model_params['name'])\n",
        "    print (\"--\"*30)\n",
        "\n",
        "    # Small number of epochs for fast runtime\n",
        "    for this_max_iter in model_params['iters']:\n",
        "        \n",
        "        lr = LogisticRegression(solver=solver,\n",
        "                                multi_class=model,\n",
        "                                max_iter=this_max_iter,\n",
        "                                random_state=42,\n",
        "                                )\n",
        "        t1 = timeit.default_timer()\n",
        "        lr.fit(train_X, train_y)\n",
        "        train_time = timeit.default_timer() - t1\n",
        "\n",
        "        y_pred = lr.predict(test_X)\n",
        "        accuracy = np.sum(y_pred == test_y) / test_y.shape[0]\n",
        "        print('Accuracy=%s, Number of epochs: %s, Run time %.2f' %\n",
        "              (accuracy, this_max_iter,train_time))\n",
        "        \n",
        "        accuracies.append(accuracy)\n",
        "        times.append(train_time)\n",
        "    \n",
        "    models[model]['times'] = times\n",
        "    models[model]['accuracies'] = accuracies\n",
        "    \n",
        "    print (\"--\"*30)\n",
        "\n",
        "#Plotting times,accuracies w.r.t model\n",
        "fig = plt.figure()\n",
        "ax = fig.add_subplot(111)\n",
        "for model in models:\n",
        "    name = models[model]['name']\n",
        "    times = models[model]['times']\n",
        "    accuracies = models[model]['accuracies']\n",
        "    ax.plot(times, accuracies, marker='o',\n",
        "            label='Model: %s' % name)\n",
        "    ax.set_xlabel('Train time (s)')\n",
        "    ax.set_ylabel('Test accuracy')\n",
        "ax.legend()\n",
        "fig.suptitle('Multinomial vs One-vs-Rest Logistic L1\\n'\n",
        "             'Dataset %s' % 'Hydraulic Dataset')\n",
        "fig.tight_layout()\n",
        "fig.subplots_adjust(top=0.85)\n",
        "run_time = timeit.default_timer() - t0\n",
        "print('Total time run in %.3f s' % run_time)\n",
        "plt.show()\n"
      ],
      "execution_count": null,
      "outputs": [
        {
          "output_type": "stream",
          "name": "stdout",
          "text": [
            "Model= One versus Rest\n",
            "------------------------------------------------------------\n",
            "Accuracy=0.5668934240362812, Number of epochs: 1, Run time 0.01\n",
            "Accuracy=0.5510204081632653, Number of epochs: 9, Run time 0.01\n",
            "Accuracy=0.5555555555555556, Number of epochs: 19, Run time 0.02\n",
            "------------------------------------------------------------\n",
            "Model= Multinomial\n",
            "------------------------------------------------------------\n",
            "Accuracy=0.5668934240362812, Number of epochs: 1, Run time 0.01\n",
            "Accuracy=0.5578231292517006, Number of epochs: 7, Run time 0.01\n",
            "Accuracy=0.5691609977324263, Number of epochs: 21, Run time 0.02\n",
            "------------------------------------------------------------\n",
            "Total time run in 0.148 s\n"
          ]
        },
        {
          "output_type": "display_data",
          "data": {
            "image/png": "[encoded data removed]",
            "text/plain": [
              "<Figure size 432x288 with 1 Axes>"
            ]
          },
          "metadata": {
            "needs_background": "light"
          }
        }
      ]
    }
  ]
}